{
 "cells": [
  {
   "cell_type": "code",
   "execution_count": 44,
   "metadata": {},
   "outputs": [],
   "source": [
    "import torch\n",
    "import os\n",
    "os.environ[\"CUDA_VISIBLE_DEVICES\"]=\"1\"\n",
    "device = torch.device('cuda')\n",
    "aggregation_method = 'mean'\n",
    "dim = 4096\n",
    "# target_task_names=[\"mmlu\"] \n",
    "# train_file_names=['dolly']"
   ]
  },
  {
   "cell_type": "markdown",
   "metadata": {},
   "source": [
    "# SAMPLE VAL DATA"
   ]
  },
  {
   "cell_type": "code",
   "execution_count": 45,
   "metadata": {},
   "outputs": [],
   "source": [
    "grad_relative_path = '../../'"
   ]
  },
  {
   "cell_type": "code",
   "execution_count": 46,
   "metadata": {},
   "outputs": [],
   "source": [
    "# # load sgd gradients of ref points\n",
    "# ref_grads = torch.load(grad_relative_path + 'grads/TinyLlama/TinyLlama-1.1B-Chat-v1.0-p0.1-lora-seed3/mmlu-ckpt92-sgd/dim8192/all_orig.pt')\n",
    "# if not torch.is_tensor(ref_grads):\n",
    "#     ref_grads = torch.tensor(ref_grads)\n",
    "# ref_grads = ref_grads.to(device).float()\n",
    "# # load adam gradients of val points\n",
    "# val_grads = torch.load(grad_relative_path + 'grads/TinyLlama/TinyLlama-1.1B-Chat-v1.0-p0.1-lora-seed3/fake_val/dolly-ckpt92-adam/dim8192/all_orig.pt')\n",
    "# if not torch.is_tensor(val_grads):\n",
    "#     val_grads = torch.tensor(val_grads)\n",
    "# val_grads = val_grads.to(device).float()\n",
    "# print(ref_grads.shape, val_grads.shape)\n",
    "# def sample_tensor(tensor, sample_fraction=0.2, seed=0): \n",
    "#     torch.manual_seed(seed)\n",
    "#     num_samples = int(tensor.size(0) * sample_fraction)\n",
    "#     indices = torch.randperm(tensor.size(0))[:num_samples]\n",
    "#     return tensor[indices], indices\n",
    "\n",
    "# sampled_val_grads, sampled_indices = sample_tensor(val_grads, 0.2, seed=0) # sampled_indices is the indices of samples from the original file\n",
    "# print(sampled_val_grads.shape)"
   ]
  },
  {
   "cell_type": "markdown",
   "metadata": {},
   "source": [
    "# COS"
   ]
  },
  {
   "cell_type": "code",
   "execution_count": 47,
   "metadata": {},
   "outputs": [],
   "source": [
    "N_SUBTASKS = {\"mmlu\": 57, \"bbh\": 27, \"tydiqa\": 9}\n",
    "from typing import List\n",
    "grad_relative_path = '../../'\n",
    "def calculate_influence_score(training_info: torch.Tensor, validation_info: torch.Tensor):\n",
    "    \"\"\"Calculate the influence score.\n",
    "\n",
    "    Args:\n",
    "        training_info (torch.Tensor): training info (gradients/representations) stored in a tensor of shape N x N_DIM\n",
    "        validation_info (torch.Tensor): validation info (gradients/representations) stored in a tensor of shape N_VALID x N_DIM\n",
    "    \"\"\"\n",
    "    # N x N_VALID\n",
    "    influence_scores = torch.matmul(\n",
    "        training_info, validation_info.transpose(0, 1))\n",
    "    return influence_scores\n",
    "def calculate_eucledean_distance(training_info: torch.Tensor, validation_info: torch.Tensor):\n",
    "    \"\"\"Calculate the influence score.\n",
    "\n",
    "    Args:\n",
    "        training_info (torch.Tensor): training info (gradients/representations) stored in a tensor of shape N x N_DIM\n",
    "        validation_info (torch.Tensor): validation info (gradients/representations) stored in a tensor of shape N_VALID x N_DIM\n",
    "    \"\"\"\n",
    "    # N x N_VALID\n",
    "    influence_scores = torch.cdist(training_info, validation_info)\n",
    "    return influence_scores\n",
    "def aggregate_influence_scores(influence_scores: torch.Tensor, method: str = \"mean\"):\n",
    "    \"\"\"Aggregate the influence scores.\n",
    "\n",
    "    Args:\n",
    "        influence_scores (torch.Tensor): influence scores stored in a tensor of shape N x N_TASK X N_VALID\n",
    "        aggregation (str): aggregation method, one of \"mean\", \"max\", \"min\"\n",
    "    \"\"\"\n",
    "        #   influence_score = influence_score.reshape(\n",
    "        #             influence_score.shape[0], N_SUBTASKS[target_task_name], -1).mean(-1).max(-1)[0]\n",
    "    if method == \"mean\":\n",
    "        return influence_scores.mean(-1)\n",
    "    elif method == \"max\":\n",
    "        return influence_scores.max(-1)[0]\n",
    "    elif method == \"min\":\n",
    "        return influence_scores.min(-1)[0]\n",
    "    else:\n",
    "        raise ValueError(\"Invalid aggregation method.\")\n",
    "def get_inf_scores(checkpoint_weights: List[str], target_task_names: List[str], train_file_names: List[str], ckpts: List[float], \n",
    "                   validation_gradient_path: str, gradient_path: str, output_path: str, aggregation_method: str = \"mean\", dim=8192):\n",
    "    # renormalize the checkpoint weights\n",
    "    if sum(checkpoint_weights) != 1:\n",
    "        s = sum(checkpoint_weights)\n",
    "        checkpoint_weights = [i/s for i in checkpoint_weights]\n",
    "\n",
    "    # calculate the influence score for each validation task\n",
    "    for target_task_name in target_task_names:\n",
    "        for train_file_name in train_file_names:\n",
    "            influence_score = 0\n",
    "            for i, ckpt in enumerate(ckpts):\n",
    "                validation_path = validation_gradient_path.format(\n",
    "                target_task_name, ckpt, dim)\n",
    "                if os.path.isdir(validation_path):\n",
    "                    validation_path = os.path.join(validation_path, \"all_orig.pt\")\n",
    "                validation_info = torch.load(validation_path)\n",
    "\n",
    "                if not torch.is_tensor(validation_info):\n",
    "                    validation_info = torch.tensor(validation_info)\n",
    "                validation_info = validation_info.to(device).float()\n",
    "                gradient_path = gradient_path.format(train_file_name, ckpt, dim)\n",
    "                if os.path.isdir(gradient_path):\n",
    "                    gradient_path = os.path.join(gradient_path, \"all_orig.pt\")\n",
    "                training_info = torch.load(gradient_path)\n",
    "\n",
    "                if not torch.is_tensor(training_info):\n",
    "                    training_info = torch.tensor(training_info)\n",
    "                training_info = training_info.to(device).float()\n",
    "\n",
    "                influence_score += checkpoint_weights[i] * \\\n",
    "                    calculate_influence_score(\n",
    "                        training_info=training_info, validation_info=validation_info)\n",
    "                print(\"Finished calculating influence score at checkpoint {}\".format(ckpt))\n",
    "            influence_score = influence_score.reshape(\n",
    "                influence_score.shape[0], N_SUBTASKS[target_task_name], -1)\n",
    "            \n",
    "            influence_score = aggregate_influence_scores(influence_score, method=aggregation_method).max(-1)[0]\n",
    "            output_dir = os.path.join(output_path, target_task_name)\n",
    "            if not os.path.exists(output_dir):\n",
    "                os.makedirs(output_dir)\n",
    "            output_file = os.path.join(\n",
    "                output_path, target_task_name, f\"{train_file_name}_{aggregation_method}_dim{dim}_influence_score.pt\")\n",
    "            torch.save(influence_score, output_file)\n",
    "            print(\"Saved influence score to {}\".format(output_file))\n"
   ]
  },
  {
   "cell_type": "code",
   "execution_count": 48,
   "metadata": {},
   "outputs": [
    {
     "name": "stdout",
     "output_type": "stream",
     "text": [
      "Finished calculating influence score at checkpoint 23\n",
      "Finished calculating influence score at checkpoint 46\n",
      "Finished calculating influence score at checkpoint 70\n",
      "Finished calculating influence score at checkpoint 92\n",
      "Saved influence score to selected_data/mmlu/dolly_mean_dim4096_influence_score.pt\n"
     ]
    }
   ],
   "source": [
    "get_inf_scores(\n",
    "    checkpoint_weights=[1.707865168539327e-05,1.2808988764044946e-05,7.528089887640449e-06,2.4719101123595505e-06], \n",
    "    target_task_names=[\"mmlu\"], \n",
    "    train_file_names=['dolly'],\n",
    "    ckpts=[23, 46, 70, 92], \n",
    "    gradient_path=grad_relative_path + 'grads/TinyLlama/TinyLlama-1.1B-Chat-v1.0-p0.1-lora-seed3/fake_val/{}-ckpt{}-adam/dim{}', \n",
    "    validation_gradient_path=grad_relative_path + 'grads/TinyLlama/TinyLlama-1.1B-Chat-v1.0-p0.1-lora-seed3/{}-ckpt{}-sgd/dim{}', \n",
    "    output_path='selected_data',\n",
    "    aggregation_method=aggregation_method,\n",
    "    dim=dim)"
   ]
  },
  {
   "cell_type": "markdown",
   "metadata": {},
   "source": [
    "## Apply "
   ]
  },
  {
   "cell_type": "markdown",
   "metadata": {},
   "source": [
    "# THRESHOLD"
   ]
  },
  {
   "cell_type": "code",
   "execution_count": 49,
   "metadata": {},
   "outputs": [
    {
     "data": {
      "text/plain": [
       "torch.Size([1000])"
      ]
     },
     "execution_count": 49,
     "metadata": {},
     "output_type": "execute_result"
    }
   ],
   "source": [
    "file_path = f'selected_data/mmlu/dolly_{aggregation_method}_dim{dim}_influence_score.pt'\n",
    "inf_scores = torch.load(file_path)\n",
    "inf_scores.shape"
   ]
  },
  {
   "cell_type": "code",
   "execution_count": 50,
   "metadata": {},
   "outputs": [
    {
     "data": {
      "text/plain": [
       "torch.Size([1000])"
      ]
     },
     "execution_count": 50,
     "metadata": {},
     "output_type": "execute_result"
    }
   ],
   "source": [
    "sorted_inf_scores, _ = torch.sort(inf_scores)\n",
    "sorted_inf_scores.shape\n",
    "# sorted_mean_cos, _ = torch.sort(mean_cos)\n",
    "# print(sorted_mean_cos)\n"
   ]
  },
  {
   "cell_type": "code",
   "execution_count": 51,
   "metadata": {},
   "outputs": [
    {
     "name": "stdout",
     "output_type": "stream",
     "text": [
      "tensor(0.0097, device='cuda:0') tensor(0.0179, device='cuda:0')\n"
     ]
    }
   ],
   "source": [
    "n_samples = sorted_inf_scores.size(0)\n",
    "chunk_size = n_samples // 3\n",
    "low_threshold = sorted_inf_scores[chunk_size]\n",
    "high_threshold = sorted_inf_scores[2 * chunk_size]\n",
    "print(low_threshold, high_threshold)"
   ]
  },
  {
   "cell_type": "markdown",
   "metadata": {},
   "source": [
    "# Distribution"
   ]
  },
  {
   "cell_type": "code",
   "execution_count": 52,
   "metadata": {},
   "outputs": [
    {
     "data": {
      "text/plain": [
       "<matplotlib.legend.Legend at 0x7f3fdfed9550>"
      ]
     },
     "execution_count": 52,
     "metadata": {},
     "output_type": "execute_result"
    },
    {
     "data": {
      "image/png": "[encoded data removed]",
      "text/plain": [
       "<Figure size 1000x600 with 1 Axes>"
      ]
     },
     "metadata": {},
     "output_type": "display_data"
    }
   ],
   "source": [
    "import matplotlib.pyplot as plt\n",
    "\n",
    "plt.figure(figsize=(10, 6))\n",
    "plt.hist(sorted_inf_scores.cpu().numpy(), bins=50, edgecolor='black')\n",
    "plt.title('Distribution of Sorted Influence Scores')\n",
    "plt.xlabel('Influence Score')\n",
    "plt.ylabel('Frequency')\n",
    "# plt.show()\n",
    "plt.axvline(low_threshold.cpu().item(), color='r', linestyle='dashed', linewidth=2, label='Low Threshold')\n",
    "plt.axvline(high_threshold.cpu().item(), color='y', linestyle='dashed', linewidth=2, label='High Threshold')\n",
    "plt.legend()"
   ]
  },
  {
   "cell_type": "markdown",
   "metadata": {},
   "source": [
    "# Label"
   ]
  },
  {
   "cell_type": "code",
   "execution_count": 53,
   "metadata": {},
   "outputs": [
    {
     "data": {
      "text/plain": [
       "torch.Size([1000])"
      ]
     },
     "execution_count": 53,
     "metadata": {},
     "output_type": "execute_result"
    }
   ],
   "source": [
    "labels = torch.empty_like(inf_scores, dtype=torch.long)\n",
    "\n",
    "labels[inf_scores < low_threshold] = 0\n",
    "labels[(inf_scores >= low_threshold) & (inf_scores < high_threshold)] = 1\n",
    "labels[inf_scores >= high_threshold] = 2\n",
    "\n",
    "# print(labels)\n",
    "labels.shape"
   ]
  },
  {
   "cell_type": "code",
   "execution_count": 54,
   "metadata": {},
   "outputs": [
    {
     "data": {
      "text/plain": [
       "tensor([2, 1, 1, 2, 0], device='cuda:0')"
      ]
     },
     "execution_count": 54,
     "metadata": {},
     "output_type": "execute_result"
    }
   ],
   "source": [
    "labels[:5]"
   ]
  },
  {
   "cell_type": "markdown",
   "metadata": {},
   "source": [
    "# Save (Text, Grad, Label)"
   ]
  },
  {
   "cell_type": "code",
   "execution_count": 55,
   "metadata": {},
   "outputs": [],
   "source": [
    "from datasets import load_dataset\n",
    "from typing import Union, List\n",
    "\n",
    "def load_raw_dataset(train_files: Union[List[str], str]):\n",
    "    \"\"\" load raw dataset \"\"\"\n",
    "    if isinstance(train_files, str):\n",
    "        train_files = [train_files]\n",
    "    processed_datasets = load_dataset(\n",
    "        \"json\",\n",
    "        data_files=train_files,\n",
    "    )[\"train\"]\n",
    "    return processed_datasets"
   ]
  },
  {
   "cell_type": "code",
   "execution_count": 56,
   "metadata": {},
   "outputs": [],
   "source": [
    "text_path = '../data/train/processed/dolly/sampled_val_dolly_data.jsonl'\n",
    "texts = load_raw_dataset(text_path)"
   ]
  },
  {
   "cell_type": "code",
   "execution_count": 57,
   "metadata": {},
   "outputs": [],
   "source": [
    "import json\n",
    "\n",
    "with open(f'../data/filter/dolly/{aggregation_method}_dim{dim}_all.jsonl', 'w', encoding='utf-8') as file:\n",
    "    for text, inf_score, label in zip(texts, inf_scores, labels):\n",
    "        data = {\n",
    "            \"text\": text,\n",
    "            \"cos\": inf_score.item(),\n",
    "            \"label\": label.item()\n",
    "        }\n",
    "        file.write(json.dumps(data, ensure_ascii=False) + '\\n')\n"
   ]
  },
  {
   "cell_type": "code",
   "execution_count": 58,
   "metadata": {},
   "outputs": [
    {
     "data": {
      "text/plain": [
       "tensor(0.0271, device='cuda:0')"
      ]
     },
     "execution_count": 58,
     "metadata": {},
     "output_type": "execute_result"
    }
   ],
   "source": [
    "inf_scores[0]"
   ]
  },
  {
   "cell_type": "code",
   "execution_count": 59,
   "metadata": {},
   "outputs": [
    {
     "data": {
      "text/plain": [
       "tensor(2, device='cuda:0')"
      ]
     },
     "execution_count": 59,
     "metadata": {},
     "output_type": "execute_result"
    }
   ],
   "source": [
    "labels[0]"
   ]
  }
 ],
 "metadata": {
  "kernelspec": {
   "display_name": "venv",
   "language": "python",
   "name": "python3"
  },
  "language_info": {
   "codemirror_mode": {
    "name": "ipython",
    "version": 3
   },
   "file_extension": ".py",
   "mimetype": "text/x-python",
   "name": "python",
   "nbconvert_exporter": "python",
   "pygments_lexer": "ipython3",
   "version": "3.9.20"
  }
 },
 "nbformat": 4,
 "nbformat_minor": 2
}
