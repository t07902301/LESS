{
 "cells": [
  {
   "cell_type": "markdown",
   "metadata": {},
   "source": [
    "# Get original training data"
   ]
  },
  {
   "cell_type": "code",
   "execution_count": null,
   "metadata": {},
   "outputs": [
    {
     "data": {
      "text/plain": [
       "15011"
      ]
     },
     "execution_count": 2,
     "metadata": {},
     "output_type": "execute_result"
    }
   ],
   "source": [
    "import json, os\n",
    "\n",
    "# Load the JSONL file\n",
    "data = [json.loads(line) for line in open(os.path.expanduser('~/data/llm/train/processed/dolly/dolly_data.jsonl'))]\n",
    "len(data)\n"
   ]
  },
  {
   "cell_type": "markdown",
   "metadata": {},
   "source": [
    "# Split the training dataset into two parts"
   ]
  },
  {
   "cell_type": "code",
   "execution_count": null,
   "metadata": {},
   "outputs": [
    {
     "name": "stdout",
     "output_type": "stream",
     "text": [
      "7505 7506\n"
     ]
    }
   ],
   "source": [
    "# Calculate the split index\n",
    "split_index = len(data) // 2\n",
    "\n",
    "# Split the data into two parts\n",
    "part1 = data[:split_index]\n",
    "part2 = data[split_index:]\n",
    "\n",
    "# Print the lengths of the parts to verify\n",
    "print(len(part1), len(part2))"
   ]
  },
  {
   "cell_type": "markdown",
   "metadata": {},
   "source": [
    "train_dolly_data.jsonl is for data selection pool, while val_dolly_data.jsonl is for training points of classifier/regression models. "
   ]
  },
  {
   "cell_type": "code",
   "execution_count": 4,
   "metadata": {},
   "outputs": [],
   "source": [
    "# Save the data rows of text into a JSONL file\n",
    "with open(os.path.expanduser('~/data/llm/train/processed/dolly/train_dolly_data.jsonl'), 'w') as file:\n",
    "    for entry in part1:\n",
    "        file.write(json.dumps(entry) + '\\n')"
   ]
  },
  {
   "cell_type": "code",
   "execution_count": 5,
   "metadata": {},
   "outputs": [],
   "source": [
    "# Save the data rows of text into a JSONL file\n",
    "with open(os.path.expanduser('~/data/llm/train/processed/dolly/val_dolly_data.jsonl'), 'w') as file:\n",
    "    for entry in part2:\n",
    "        file.write(json.dumps(entry) + '\\n')"
   ]
  },
  {
   "cell_type": "markdown",
   "metadata": {},
   "source": [
    "# sample fake_val dataset from val_dolly_data.jsonl to experiment the code"
   ]
  },
  {
   "cell_type": "code",
   "execution_count": 8,
   "metadata": {},
   "outputs": [],
   "source": [
    "# sample fake_val data \n",
    "import random\n",
    "import json\n",
    "\n",
    "# Load the JSONL file\n",
    "data = [json.loads(line) for line in open(os.path.expanduser('~/data/llm/train/processed/dolly/val_dolly_data.jsonl'))]\n",
    "\n",
    "# Sample 1000 points from the loaded data\n",
    "sampled_data = random.sample(data, min(3000, len(data)))\n",
    "\n",
    "# Save the sampled data into a JSONL file\n",
    "with open(os.path.expanduser('~/data/llm/train/processed/dolly/sampled_val_dolly_data.jsonl'), 'w') as file:\n",
    "    for entry in sampled_data:\n",
    "        file.write(json.dumps(entry) + '\\n')\n"
   ]
  }
 ],
 "metadata": {
  "kernelspec": {
   "display_name": "venv",
   "language": "python",
   "name": "python3"
  },
  "language_info": {
   "codemirror_mode": {
    "name": "ipython",
    "version": 3
   },
   "file_extension": ".py",
   "mimetype": "text/x-python",
   "name": "python",
   "nbconvert_exporter": "python",
   "pygments_lexer": "ipython3",
   "version": "3.9.20"
  }
 },
 "nbformat": 4,
 "nbformat_minor": 2
}
