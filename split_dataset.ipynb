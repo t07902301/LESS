{
 "cells": [
  {
   "cell_type": "code",
   "execution_count": 1,
   "metadata": {},
   "outputs": [],
   "source": [
    "import json\n",
    "\n",
    "# Load the JSONL file\n",
    "data = [json.loads(line) for line in open('data/train/processed/dolly/dolly_data.jsonl')]\n"
   ]
  },
  {
   "cell_type": "code",
   "execution_count": 3,
   "metadata": {},
   "outputs": [
    {
     "data": {
      "text/plain": [
       "15011"
      ]
     },
     "execution_count": 3,
     "metadata": {},
     "output_type": "execute_result"
    }
   ],
   "source": [
    "len(data)"
   ]
  },
  {
   "cell_type": "code",
   "execution_count": 2,
   "metadata": {},
   "outputs": [
    {
     "name": "stdout",
     "output_type": "stream",
     "text": [
      "7505 7506\n"
     ]
    }
   ],
   "source": [
    "# Calculate the split index\n",
    "split_index = len(data) // 2\n",
    "\n",
    "# Split the data into two parts\n",
    "part1 = data[:split_index]\n",
    "part2 = data[split_index:]\n",
    "\n",
    "# Print the lengths of the parts to verify\n",
    "print(len(part1), len(part2))"
   ]
  },
  {
   "cell_type": "code",
   "execution_count": null,
   "metadata": {},
   "outputs": [],
   "source": [
    "# Save the data rows of text into a JSONL file\n",
    "with open('data/train/processed/dolly/train_dolly_data.jsonl', 'w') as file:\n",
    "    for entry in part1:\n",
    "        file.write(json.dumps(entry) + '\\n')"
   ]
  },
  {
   "cell_type": "code",
   "execution_count": 3,
   "metadata": {},
   "outputs": [],
   "source": [
    "# Save the data rows of text into a JSONL file\n",
    "with open('data/train/processed/dolly/val_dolly_data.jsonl', 'w') as file:\n",
    "    for entry in part2:\n",
    "        file.write(json.dumps(entry) + '\\n')"
   ]
  },
  {
   "cell_type": "code",
   "execution_count": null,
   "metadata": {},
   "outputs": [],
   "source": []
  }
 ],
 "metadata": {
  "kernelspec": {
   "display_name": "venv",
   "language": "python",
   "name": "python3"
  },
  "language_info": {
   "codemirror_mode": {
    "name": "ipython",
    "version": 3
   },
   "file_extension": ".py",
   "mimetype": "text/x-python",
   "name": "python",
   "nbconvert_exporter": "python",
   "pygments_lexer": "ipython3",
   "version": "3.9.20"
  }
 },
 "nbformat": 4,
 "nbformat_minor": 2
}
